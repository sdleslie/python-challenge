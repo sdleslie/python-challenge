{
 "cells": [
  {
   "cell_type": "code",
   "execution_count": 1,
   "metadata": {},
   "outputs": [],
   "source": [
    "# Modules\n",
    "import os\n",
    "import csv"
   ]
  },
  {
   "cell_type": "code",
   "execution_count": 2,
   "metadata": {},
   "outputs": [],
   "source": [
    "# Set path to Polling Data\n",
    "pollpath = os.path.join('Resources', 'election_data.csv')\n",
    "pollmedium = os.path.join('Resources', 'election_medium.csv')\n",
    "pollshort = os.path.join('Resources', 'election_short.csv')"
   ]
  },
  {
   "cell_type": "code",
   "execution_count": 3,
   "metadata": {},
   "outputs": [],
   "source": [
    "# Open file to read\n",
    "with open(pollpath) as csvfile:\n",
    "    csvreader = csv.reader(csvfile, delimiter=',')"
   ]
  },
  {
   "cell_type": "code",
   "execution_count": 4,
   "metadata": {},
   "outputs": [],
   "source": [
    "with open(pollshort) as csvfile:\n",
    "    csvreader = csv.reader(csvfile, delimiter=',')\n",
    "with open(pollmedium) as csvfile:\n",
    "    csvreader = csv.reader(csvfile, delimiter=',')"
   ]
  },
  {
   "cell_type": "code",
   "execution_count": 58,
   "metadata": {},
   "outputs": [
    {
     "name": "stdout",
     "output_type": "stream",
     "text": [
      "-------------------------\n",
      "Election Results\n",
      "-------------------------\n",
      "Total Votes: \u001b[34m3̲5̲2̲1̲0̲0̲1\n",
      "\u001b[30m-------------------------\n",
      "Khan: 63.00% (2,218,231)\n",
      "Correy: 20.00% (704,200)\n",
      "Li: 14.00% (492,940)\n",
      "O'Tooley: 3.00% (105,630)\n",
      "-------------------------\n",
      "And the Winner is:Khan (from the Planet SETI Alpha 6)\n",
      "-------------------------\n"
     ]
    }
   ],
   "source": [
    "# -----------Main Module----------\n",
    "# Initialize variabes\n",
    "votes = 0\n",
    "Winner_votes = 0\n",
    "n = 0\n",
    "# Initialize lists with no elements\n",
    "Candidate = []\n",
    "Candidate_votes = []\n",
    "Percent = []\n",
    "with open(pollpath) as csvfile:\n",
    "    csvreader = csv.reader(csvfile, delimiter=',')\n",
    "    next(csvreader)\n",
    "# Read through data\n",
    "    for row in csvreader:\n",
    "# Total the votes (one by one)\n",
    "        votes = votes + 1\n",
    "# When a new candidate hits the campaign trail add them to our list of candidates and their vote box\n",
    "        if row[2] not in Candidate:\n",
    "            Candidate.append(row[2])\n",
    "            Candidate_votes.append(0)\n",
    "            Percent.append(0)\n",
    "            n = n + 1\n",
    "# When a candidate gets a vote add it to their vote box\n",
    "        for i in range(n):\n",
    "            if Candidate[i] == row[2]:\n",
    "                Candidate_votes[i] = Candidate_votes[i] + 1\n",
    "\n",
    "# Print Headings\n",
    "print('-------------------------')\n",
    "print('Election Results')        \n",
    "print('-------------------------')\n",
    "\n",
    "# TotalBlue = chr(27)+\"[34m\"+ str(votes)\n",
    "# Trying to learn tesxt coloring anf styles (needs work)\n",
    "\n",
    "print(\"Total Votes: \" + chr(27)+\"[34m\" + \"\\u0332\".join(str(votes)))\n",
    "print(chr(27)+\"[30m\" + \"-------------------------\")\n",
    "# Create a list for each Candidate and the voting stats.  Also the top vote getter is the Winner!\n",
    "for i in range(n):\n",
    "    Percent[i] = Candidate_votes[i] / votes\n",
    "    # Rounding not working as expected, rounds to an integer and roundfloat throes an error\n",
    "    # NameError: name 'roundfloat' is not defined\n",
    "    \n",
    "    if Candidate_votes[i] > Winner_votes:\n",
    "        Winner_votes = Candidate_votes[i]\n",
    "        Winner = Candidate[i]\n",
    "    Votes_by_Candidate = Candidate[i] + \": \" + \"{:.2%}\".format(Percent[i]) + \" (\" + \"{:,}\".format(Candidate_votes[i]) + \")\"\n",
    "    # Would like to use percent formatting with decimal formatting\n",
    "    # Votes_by_Candidate = Candidate[i] + \": \" + \"{:%}\".format(Percent[i]) + \" (\" + \"{:,}\".format(Candidate_votes[i]) + \")\"\n",
    "    \n",
    "    print(Votes_by_Candidate)\n",
    "#Print Results\n",
    "print('-------------------------')\n",
    "WinnerString = 'And the Winner is:' + Winner\n",
    "if Winner == 'Khan':\n",
    "    WinnerString = WinnerString + ' (from the Planet SETI Alpha 6)'\n",
    "print(WinnerString)\n",
    "print('-------------------------')\n",
    "# Note: I chose 2 decimal places for the percentage display instead of 3, looks better"
   ]
  },
  {
   "cell_type": "code",
   "execution_count": 60,
   "metadata": {},
   "outputs": [],
   "source": [
    "# -----------Output Module----------\n",
    "# Write to text file\n",
    "output_poll = os.path.join('Resources', 'Election_Results.csv')\n",
    "\n",
    "# Open and write to the output file\n",
    "with open(output_poll, 'w',newline='') as csvfile:\n",
    "    # Initialize csv.writer\n",
    "    csvwriter = csv.writer(csvfile, delimiter=',')\n",
    "    # Write the headers\n",
    "    csvwriter.writerow(['Candidate', 'Percent of Votes', 'Total Votes'])\n",
    "    # Write the results\n",
    "    for i in range(n):\n",
    "        PercentOutput = round(100 * (Percent[i]),2)\n",
    "        csvwriter.writerow([Candidate[i], PercentOutput, Candidate_votes[i]])\n",
    "    # Write the Winner\n",
    "    csvwriter.writerow([WinnerString])\n",
    "# Getting an extra line feed for each row!"
   ]
  },
  {
   "cell_type": "code",
   "execution_count": null,
   "metadata": {},
   "outputs": [],
   "source": []
  }
 ],
 "metadata": {
  "kernelspec": {
   "display_name": "Python 3",
   "language": "python",
   "name": "python3"
  },
  "language_info": {
   "codemirror_mode": {
    "name": "ipython",
    "version": 3
   },
   "file_extension": ".py",
   "mimetype": "text/x-python",
   "name": "python",
   "nbconvert_exporter": "python",
   "pygments_lexer": "ipython3",
   "version": "3.7.6"
  }
 },
 "nbformat": 4,
 "nbformat_minor": 4
}
