{
 "cells": [
  {
   "cell_type": "code",
   "execution_count": 1,
   "metadata": {},
   "outputs": [],
   "source": [
    "# Modules\n",
    "import os\n",
    "import csv"
   ]
  },
  {
   "cell_type": "code",
   "execution_count": 2,
   "metadata": {},
   "outputs": [
    {
     "data": {
      "text/plain": [
       "'Resources\\\\budget_data.csv'"
      ]
     },
     "execution_count": 2,
     "metadata": {},
     "output_type": "execute_result"
    }
   ],
   "source": [
    "# Set path to Budget Data\n",
    "budgetpath = os.path.join('Resources', 'budget_data.csv')\n",
    "budgetpath"
   ]
  },
  {
   "cell_type": "code",
   "execution_count": 3,
   "metadata": {},
   "outputs": [],
   "source": [
    "# Open file to read\n",
    "with open(budgetpath) as csvfile:\n",
    "    csvreader = csv.reader(csvfile, delimiter=',')"
   ]
  },
  {
   "cell_type": "code",
   "execution_count": 11,
   "metadata": {},
   "outputs": [
    {
     "name": "stdout",
     "output_type": "stream",
     "text": [
      "Financial Analysis\n",
      "----------------------------\n",
      "Total Months: 86\n",
      "Total: $38,382,578\n",
      "Average Change: $-2,288.20\n",
      "Greatest Increase in Profits: Feb-2012 ($1,926,159)\n",
      "Greatest Decrease in Profits: Sep-2013 ($-2,196,167)\n"
     ]
    }
   ],
   "source": [
    "# -----------Main Module----------\n",
    "# Checking the calcluation for average change using Excel showed the result\n",
    "# that is calculated below which is different than the result in the Instructions\n",
    "\n",
    "# Initialize variabes\n",
    "months = 0\n",
    "profittotal = 0\n",
    "profitchange = 0\n",
    "profitprev = 0\n",
    "profit = 0\n",
    "# start = 0\n",
    "change = 0\n",
    "sumchange = 0\n",
    "average = 0\n",
    "maxchange=0\n",
    "minchange=0\n",
    "with open(budgetpath) as csvfile:\n",
    "    csvreader = csv.reader(csvfile, delimiter=',')\n",
    "    next(csvreader)\n",
    "    for row in csvreader:\n",
    "        # Count the rows after the header\n",
    "        months = 1 + months\n",
    "        # Total the profit/loss column (1)\n",
    "        profittotal = float(row[1]) + profittotal\n",
    "        profitprev = profit\n",
    "        profit = float(row[1])\n",
    "        change = profit - profitprev\n",
    "        if change > maxchange:\n",
    "            maxchange=change\n",
    "            maxmonth=row[0]\n",
    "        elif change <minchange:\n",
    "            minchange=change\n",
    "            minmonth=row[0]\n",
    "        if months == 1:\n",
    "            change = 0\n",
    "        sumchange = sumchange + change\n",
    "averagechange = sumchange/months\n",
    "\n",
    "print('Financial Analysis')\n",
    "print('----------------------------')\n",
    "print('Total Months: ' + str(months))\n",
    "print('Total: ' + \"${:,.0f}\".format(profittotal))\n",
    "print('Average Change: ' + \"${:,.2f}\".format(averagechange))\n",
    "print('Greatest Increase in Profits: '+ maxmonth + ' (' \"${:,.0f}\".format(maxchange)+')')\n",
    "print('Greatest Decrease in Profits: '+ minmonth + ' (' \"${:,.0f}\".format(minchange)+')')\n",
    "# Can't get the f' version to work!\n",
    "# print(f'Greatest Increase in Profits: {maxmonth} \"${:.0f}\".format(maxchange)')\n",
    "# Old f\" versions\n",
    "# print(f'Greatest Increase in Profits: {maxmonth} (${maxchange})')\n",
    "# print(f'Greatest Decrease in Profits: {minmonth} was (${minchange})')"
   ]
  },
  {
   "cell_type": "code",
   "execution_count": 16,
   "metadata": {},
   "outputs": [],
   "source": [
    "# -----------Output Module----------\n",
    "# Write to text file\n",
    "output_poll = os.path.join('Resources', 'Financial_Analysis.csv')\n",
    "\n",
    "# Open and write to the output file\n",
    "with open(output_poll, 'w') as csvfile:\n",
    "    # Initialize csv.writer\n",
    "    csvwriter = csv.writer(csvfile, delimiter=',')\n",
    "    # Write a header\n",
    "    csvwriter.writerow(['Financial Analysis - PyBank'])\n",
    "    # Write the data\n",
    "    csvwriter.writerow(['Total Months', months])\n",
    "    csvwriter.writerow(['Total Volume', profittotal])\n",
    "    csvwriter.writerow(['Average Change', averagechange])\n",
    "    csvwriter.writerow(['Greatest Increase in Profits', maxchange])\n",
    "    csvwriter.writerow(['Greatest Decrease in Profits', minchange])"
   ]
  },
  {
   "cell_type": "code",
   "execution_count": null,
   "metadata": {},
   "outputs": [],
   "source": []
  }
 ],
 "metadata": {
  "kernelspec": {
   "display_name": "Python 3",
   "language": "python",
   "name": "python3"
  },
  "language_info": {
   "codemirror_mode": {
    "name": "ipython",
    "version": 3
   },
   "file_extension": ".py",
   "mimetype": "text/x-python",
   "name": "python",
   "nbconvert_exporter": "python",
   "pygments_lexer": "ipython3",
   "version": "3.7.6"
  }
 },
 "nbformat": 4,
 "nbformat_minor": 4
}
